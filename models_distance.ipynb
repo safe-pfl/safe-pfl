{
  "cells": [
    {
      "cell_type": "code",
      "execution_count": 2,
      "metadata": {
        "id": "Q-BrQQneGVnm"
      },
      "outputs": [],
      "source": [
        "import torch\n",
        "import numpy as np\n",
        "from scipy.spatial.distance import cosine\n",
        "import matplotlib.pyplot as plt\n",
        "import torch.nn as nn\n",
        "import torch.nn.functional as F\n",
        "import torchvision.models as models\n",
        "from scipy.stats import wasserstein_distance\n",
        "import os\n",
        "from sklearn.metrics.pairwise import cosine_similarity\n",
        "from sklearn.cluster import AffinityPropagation\n",
        "import matplotlib.pyplot as plt\n",
        "import random"
      ]
    },
    {
      "cell_type": "code",
      "execution_count": 3,
      "metadata": {
        "id": "Yd_BwJT5pGnQ"
      },
      "outputs": [],
      "source": [
        "seed = 1\n",
        "random.seed(seed)\n",
        "np.random.seed(seed)"
      ]
    },
    {
      "cell_type": "code",
      "execution_count": 4,
      "metadata": {
        "id": "XgHnSmfhG4zF"
      },
      "outputs": [],
      "source": [
        "def get_top_values(arr, p):\n",
        "    # Ensure p is a valid percentage\n",
        "    if not (0 <= p <= 100):\n",
        "        raise ValueError(\"Percentage p must be between 0 and 100.\")\n",
        "\n",
        "    # Calculate the number of elements to retain\n",
        "    num_elements_to_retain = int(len(arr) * (100 - p) / 100)\n",
        "\n",
        "    # If num_elements_to_retain is 0, return an empty array\n",
        "    if num_elements_to_retain == 0:\n",
        "        return np.array([])\n",
        "\n",
        "    # Find the indices of the largest num_elements_to_retain elements\n",
        "    indices_to_retain = np.argpartition(arr, -num_elements_to_retain)[-num_elements_to_retain:]\n",
        "\n",
        "    # Return only the top (100-p)% of elements\n",
        "    return arr[indices_to_retain]"
      ]
    },
    {
      "cell_type": "code",
      "execution_count": 5,
      "metadata": {
        "id": "yhn15HPNLN9H"
      },
      "outputs": [],
      "source": [
        "def cosine_similarity(A, B):\n",
        "    A = np.array(A)\n",
        "    B = np.array(B)\n",
        "\n",
        "    dot_product = np.dot(A, B)\n",
        "    norm_A = np.linalg.norm(A)\n",
        "    norm_B = np.linalg.norm(B)\n",
        "\n",
        "    if norm_A == 0 or norm_B == 0:\n",
        "        raise ValueError(\"One of the vectors is zero-vector; cosine similarity is undefined.\")\n",
        "\n",
        "    similarity = dot_product / (norm_A * norm_B)\n",
        "    return similarity"
      ]
    },
    {
      "cell_type": "code",
      "execution_count": 6,
      "metadata": {
        "id": "Z9fUzKUD19yC"
      },
      "outputs": [],
      "source": [
        "MODEL_TYPE=\"alexnet\"\n",
        "DATASET_TYPE=None\n",
        "NUMBER_OF_CLASSES=10"
      ]
    },
    {
      "cell_type": "code",
      "execution_count": 7,
      "metadata": {
        "id": "NUyaOdY0cMmm"
      },
      "outputs": [],
      "source": [
        "class Net(nn.Module):\n",
        "    def init(\n",
        "        self,\n",
        "    ):\n",
        "        super(Net, self).init()\n",
        "\n",
        "        if MODEL_TYPE == \"resnet18\":\n",
        "            self.resnet = models.resnet18(pretrained=False)\n",
        "            if DATASET_TYPE == \"mnist\":\n",
        "                self.resnet18.conv1 = nn.Conv2d(\n",
        "                    1, 64, kernel_size=(7, 7), stride=(2, 2), padding=(3, 3), bias=False\n",
        "                )\n",
        "            self.resnet18.fc = nn.Linear(\n",
        "                self.resnet18.fc.in_features, NUMBER_OF_CLASSES\n",
        "            )\n",
        "        elif MODEL_TYPE == \"resnet50\":\n",
        "            self.resnet = models.resnet50(pretrained=False)\n",
        "            self.resnet.fc = nn.Linear(self.resnet.fc.in_features, NUMBER_OF_CLASSES)\n",
        "        elif MODEL_TYPE == \"cnn\":\n",
        "            self.conv1 = nn.Conv2d(1, 6, 5)\n",
        "            self.pool = nn.MaxPool2d(2, 2)\n",
        "            self.conv2 = nn.Conv2d(6, 16, 5)\n",
        "            self.fc1 = nn.Linear(16 * 4 * 4, 120)\n",
        "            self.fc2 = nn.Linear(120, 84)\n",
        "            self.fc3 = nn.Linear(84, 10)\n",
        "\n",
        "        elif MODEL_TYPE == \"mobilenet\":\n",
        "            self.mobilenet_v3_large = models.mobilenet_v3_large(pretrained=False)\n",
        "            self.mobilenet_v3_large.classifier[3] = nn.Linear(self.mobilenet_v3_large.classifier[3].in_features, NUMBER_OF_CLASSES)\n",
        "\n",
        "        elif MODEL_TYPE == \"vgg16\":\n",
        "            self.vgg16 = models.vgg11(pretrained=False)\n",
        "            self.vgg16.classifier[6] = nn.Linear(4096, NUMBER_OF_CLASSES)\n",
        "\n",
        "        elif MODEL_TYPE == \"alexnet\":\n",
        "            self.features = nn.Sequential(\n",
        "            nn.Conv2d(3, 64, kernel_size=3, stride=2, padding=1),  # Output: 32x32\n",
        "            nn.ReLU(inplace=True),\n",
        "            nn.MaxPool2d(kernel_size=2, stride=2),  # Output: 16x16\n",
        "            nn.Conv2d(64, 192, kernel_size=3, padding=1),  # Output: 16x16\n",
        "            nn.ReLU(inplace=True),\n",
        "            nn.MaxPool2d(kernel_size=2, stride=2),  # Output: 8x8\n",
        "            nn.Conv2d(192, 384, kernel_size=3, padding=1),  # Output: 8x8\n",
        "            nn.ReLU(inplace=True),\n",
        "            nn.Conv2d(384, 256, kernel_size=3, padding=1),  # Output: 8x8\n",
        "            nn.ReLU(inplace=True),\n",
        "            nn.Conv2d(256, 256, kernel_size=3, padding=1),  # Output: 8x8\n",
        "            nn.ReLU(inplace=True),\n",
        "            nn.MaxPool2d(kernel_size=2, stride=2),  # Output: 4x4\n",
        "            )\n",
        "\n",
        "            self.classifier = nn.Sequential(\n",
        "                nn.Dropout(p=0.5),\n",
        "                nn.Linear(256 * 4 * 4, 4096),\n",
        "                nn.ReLU(inplace=True),\n",
        "                nn.Dropout(p=0.5),\n",
        "                nn.Linear(4096, 4096),\n",
        "                nn.ReLU(inplace=True),\n",
        "                nn.Linear(4096, NUMBER_OF_CLASSES),\n",
        "            )\n",
        "\n",
        "    def forward(self, x):\n",
        "        out = None\n",
        "\n",
        "        if MODEL_TYPE in [\"resnet18\", \"resnet50\"]:\n",
        "            out = self.resnet(x)\n",
        "        elif MODEL_TYPE == \"cnn\":\n",
        "            x = self.pool(F.relu(self.conv1(x)))\n",
        "            x = self.pool(F.relu(self.conv2(x)))\n",
        "            x = x.view(x.size(0), 16 * 4 * 4)\n",
        "            x = F.relu(self.fc1(x))\n",
        "            x = F.relu(self.fc2(x))\n",
        "            x = self.fc3(x)\n",
        "            out = x\n",
        "\n",
        "        elif MODEL_TYPE == \"mobilenet\":\n",
        "            out = self.mobilenet_v3_large(x)\n",
        "\n",
        "        elif MODEL_TYPE == \"vgg16\":\n",
        "            out = self.vgg16(x)\n",
        "\n",
        "        elif MODEL_TYPE == \"alexnet\":\n",
        "            x = self.features(x)\n",
        "            x = x.view(x.size(0), -1)\n",
        "            x = self.classifier(x)\n",
        "            out = x\n",
        "\n",
        "        return out"
      ]
    },
    {
      "cell_type": "code",
      "execution_count": 8,
      "metadata": {
        "id": "tV_GxX0VPg4q"
      },
      "outputs": [],
      "source": [
        "def array_prune(array, P):\n",
        "\n",
        "\n",
        "    array = np.array(array)\n",
        "    n_elements = array.size\n",
        "\n",
        "    num_to_zero = int(P*len(arr))\n",
        "    if num_to_zero == 0:\n",
        "        num_to_zero = 1\n",
        "\n",
        "    # Get the indices of the smallest num_to_zero elements\n",
        "    #smallest_indices = np.argpartition(array, num_to_zero - 1)[:num_to_zero]\n",
        "\n",
        "    # Create a copy and set the smallest elements to zero\n",
        "    #modified_array = array.copy()\n",
        "    #modified_array[smallest_indices] = 0\n",
        "\n",
        "    #return modified_array\n",
        "\n",
        "    threshold_value = np.percentile(array, P * 100)\n",
        "\n",
        "    # Set values below or equal to the threshold to 0\n",
        "    modified_arr = np.where(array <= threshold_value, 0, array)\n",
        "\n",
        "    return modified_arr"
      ]
    },
    {
      "cell_type": "code",
      "execution_count": 9,
      "metadata": {
        "id": "c6FCTXXZGvts"
      },
      "outputs": [],
      "source": [
        "def remove_batchnorm_params(model):\n",
        "    state_dict = model.state_dict()\n",
        "\n",
        "    # Create a new dictionary excluding BatchNorm parameters\n",
        "    filtered_state_dict = {key: value for key, value in state_dict.items() if \"running_mean\" not in key and \"running_var\" not in key}\n",
        "\n",
        "    #print(\"Removed BatchNorm parameters:\")\n",
        "    #for key in state_dict.keys():\n",
        "        #if \"running_mean\" in key or \"running_var\" in key:\n",
        "            #print(f\"  - {key}\")\n",
        "\n",
        "    return filtered_state_dict"
      ]
    },
    {
      "cell_type": "code",
      "execution_count": 10,
      "metadata": {
        "id": "EwRd5hTvHkUU"
      },
      "outputs": [],
      "source": [
        "def remove_batchnorm_params(state_dict):\n",
        "    # Filter out BatchNorm parameters\n",
        "    filtered_state_dict = {\n",
        "        key: value\n",
        "        for key, value in state_dict.items()\n",
        "        if \"running_mean\" not in key and \"running_var\" not in key and \"bn\" not in key\n",
        "    }\n",
        "\n",
        "    # Print removed BatchNorm parameters for verification\n",
        "    # print(\"Removed BatchNorm parameters:\")\n",
        "    # for key in state_dict.keys():\n",
        "    #     if \"running_mean\" in key or \"running_var\" in key or \"bn\" in key:\n",
        "    #         print(f\"  - {key}\")\n",
        "\n",
        "    return filtered_state_dict\n",
        "def model_parameters_to_numpy(path):\n",
        "    # Load the model's state dictionary\n",
        "    model = torch.load(path, map_location=torch.device('cpu'))\n",
        "    # model.eval()  # Set the model to evaluation mode\n",
        "    #print(\"Model loaded successfully.\")\n",
        "    #model = model.state_dict()\n",
        "\n",
        "    # Initialize an empty list to store parameters\n",
        "    params = []\n",
        "\n",
        "    # Iterate through the model to extract parameters\n",
        "    model = remove_batchnorm_params(model)\n",
        "    for name, param in model.items():\n",
        "        if 'bias' not in name:  # Exclude bias terms\n",
        "            params.append(param.detach().cpu().numpy())  # Convert to numpy array\n",
        "\n",
        "    # Return the parameters as a numpy array\n",
        "    return np.array(params, dtype=object)"
      ]
    },
    {
      "cell_type": "code",
      "execution_count": 11,
      "metadata": {
        "id": "7cdf9aYYPkpI"
      },
      "outputs": [],
      "source": [
        "def top_to_one_other_zero(arr, P):\n",
        "    flat_arr = arr.flatten()\n",
        "    threshold_value = np.percentile(flat_arr, P * 100)\n",
        "\n",
        "    # Create a new array where values below the threshold are 0 and others are 1\n",
        "    result = np.where(arr <= threshold_value, 0, 1)\n",
        "\n",
        "    return result"
      ]
    },
    {
      "cell_type": "code",
      "execution_count": 12,
      "metadata": {
        "colab": {
          "base_uri": "https://localhost:8080/"
        },
        "id": "xhAKXEe5U3DE",
        "outputId": "d43109b7-0b75-4ffb-c9c3-427cbc3dc5d5"
      },
      "outputs": [
        {
          "data": {
            "text/plain": [
              "(18,\n",
              " array([0, 1, 1, 0, 1, 0, 1, 1, 0, 1, 0, 1, 1, 0, 1, 0, 1, 1]),\n",
              " array([0. , 2.1, 1.8, 0. , 2.1, 0. , 0.7, 1.8, 0. , 2.1, 0. , 0.7, 1.8,\n",
              "        0. , 2.1, 0. , 0.7, 1.8]),\n",
              " 11,\n",
              " 11)"
            ]
          },
          "execution_count": 12,
          "metadata": {},
          "output_type": "execute_result"
        }
      ],
      "source": [
        "# Example usage\n",
        "import numpy as np\n",
        "arr = np.array([0.5, 2.1, 1.8,0.5, 2.1, -3.3, 0.7, 1.8,0.5, 2.1, -3.3, 0.7, 1.8,0.5, 2.1, -3.3, 0.7, 1.8])\n",
        "P = .4\n",
        "result = top_to_one_other_zero(arr, P)\n",
        "result2 = array_prune(arr, P)\n",
        "len(arr), result, result2,np.count_nonzero(result) ,np.count_nonzero(result2)"
      ]
    },
    {
      "cell_type": "code",
      "execution_count": 13,
      "metadata": {
        "id": "7zXeVDAJqXJf"
      },
      "outputs": [],
      "source": [
        "def group_clients_by_cluster(labels):\n",
        "    clusters = {}\n",
        "    for client_id, cluster_id in enumerate(labels):\n",
        "        if cluster_id not in clusters:\n",
        "            clusters[cluster_id] = []\n",
        "        clusters[cluster_id].append(client_id)\n",
        "    return clusters"
      ]
    },
    {
      "cell_type": "code",
      "execution_count": 14,
      "metadata": {
        "id": "QW_AqkkAuPOv"
      },
      "outputs": [],
      "source": [
        "import numpy as np\n",
        "from collections import defaultdict\n",
        "def cluster_to_list(arr):\n",
        "    cluster_dict = defaultdict(list)\n",
        "    for index, cluster in enumerate(arr):\n",
        "        cluster_dict[cluster].append(index)\n",
        "    clusters = [indices for _, indices in sorted(cluster_dict.items())]\n",
        "\n",
        "    return clusters"
      ]
    },
    {
      "cell_type": "markdown",
      "metadata": {
        "id": "uzjk3bQW8Rwo"
      },
      "source": [
        "## Load From Lab Google Drive"
      ]
    },
    {
      "cell_type": "code",
      "execution_count": null,
      "metadata": {
        "id": "OIIXMq3e9zLt"
      },
      "outputs": [],
      "source": [
        "!mkdir ./models\n",
        "!mkdir ./models/alexnet\n",
        "\n",
        "\n",
        "# 6_epochs_1_fl-rounds\n",
        "!mkdir ./models/alexnet/6_epochs_1_fl-rounds\n",
        "!mkdir ./models/alexnet/6_epochs_1_fl-rounds/svhn     # file: https://drive.google.com/drive/folders/1J8jXndhEvbnBXzIMAAXcSknAf105QtCg\n",
        "!mkdir ./models/alexnet/6_epochs_1_fl-rounds/cifar10  # file: https://drive.google.com/drive/folders/1bN9OMTsZUcrIryKMzNQnVh2gaXaYEFK9\n",
        "\n",
        "# new_6_epochs_1_fl-rounds\n",
        "!mkdir ./models/alexnet/new_6_epochs_1_fl-rounds\n",
        "!mkdir ./models/alexnet/new_6_epochs_1_fl-rounds/svhn    # file\n",
        "!mkdir ./models/alexnet/new_6_epochs_1_fl-rounds/cifar10 # file\n",
        "\n",
        "# # 12_epochs_2_fl-rounds\n",
        "!mkdir ./models/alexnet/12_epochs_2_fl-rounds\n",
        "!mkdir ./models/alexnet/12_epochs_2_fl-rounds/svhn\n",
        "!mkdir ./models/alexnet/12_epochs_2_fl-rounds/cifar10\n",
        "\n",
        "# # 18_epochs_3_fl-rounds\n",
        "!mkdir ./models/alexnet/18_epochs_3_fl-rounds\n",
        "!mkdir ./models/alexnet/18_epochs_3_fl-rounds/svhn\n",
        "!mkdir ./models/alexnet/18_epochs_3_fl-rounds/cifar10\n",
        "\n",
        "# # 24_epochs_4_fl-rounds\n",
        "!mkdir ./models/alexnet/24_epochs_4_fl-rounds\n",
        "!mkdir ./models/alexnet/24_epochs_4_fl-rounds/svhn\n",
        "!mkdir ./models/alexnet/24_epochs_4_fl-rounds/cifar10\n",
        "\n",
        "# # 30_epochs_5_fl-rounds\n",
        "!mkdir ./models/alexnet/30_epochs_5_fl-rounds\n",
        "!mkdir ./models/alexnet/30_epochs_5_fl-rounds/svhn    # file https://drive.google.com/drive/folders/1kL46fZ6OsPHxxmM7hxNfpRUHxYxt1Hab\n",
        "!mkdir ./models/alexnet/30_epochs_5_fl-rounds/cifar10 # file https://drive.google.com/drive/folders/1T3gXFegV7Jbvcs79jnoxKBBRy3cH2Rhz\n",
        "\n",
        "!mkdir ./models/alexnet/new_30_epochs_5_fl-rounds\n",
        "!mkdir ./models/alexnet/new_30_epochs_5_fl-rounds/svhn    # file https://drive.google.com/drive/folders/1jNxkSgRgThRyKEYRGqY352lwkSoMVaIo?dmr=1&ec=wgc-drive-hero-goto\n",
        "!mkdir ./models/alexnet/new_30_epochs_5_fl-rounds/cifar10    # file\n",
        "\n",
        "# 48_epochs_8_fl-rounds\n",
        "!mkdir ./models/alexnet/48_epochs_8_fl-rounds\n",
        "!mkdir ./models/alexnet/48_epochs_8_fl-rounds/svhn    # file https://drive.google.com/drive/folders/1ToZM83h1O-T0fwkzA-UElIZVKKW0u_FV\n",
        "!mkdir ./models/alexnet/48_epochs_8_fl-rounds/cifar10 # file\n",
        "\n",
        "# 48_epochs_8_fl-rounds\n",
        "!mkdir ./models/alexnet/new_48_epochs_8_fl-rounds\n",
        "!mkdir ./models/alexnet/new_48_epochs_8_fl-rounds/svhn    # file https://drive.google.com/drive/folders/1ToZM83h1O-T0fwkzA-UElIZVKKW0u_FV\n",
        "!mkdir ./models/alexnet/new_48_epochs_8_fl-rounds/cifar10 # file\n",
        "\n",
        "# 12_epochs_2_pt_fl-rounds\n",
        "!mkdir ./models/alexnet/12_epochs_2_pt_fl-rounds\n",
        "!mkdir ./models/alexnet/12_epochs_2_pt_fl-rounds/svhn    # file https://drive.google.com/drive/folders/1ToZM83h1O-T0fwkzA-UElIZVKKW0u_FV\n",
        "!mkdir ./models/alexnet/12_epochs_2_pt_fl-rounds/cifar10 # file\n",
        "\n",
        "# 480_epochs_8_pt_fl-rounds\n",
        "!mkdir ./models/alexnet/480_epochs_8_fl-rounds\n",
        "!mkdir ./models/alexnet/480_epochs_8_fl-rounds/stl10    # file\n",
        "\n",
        "\n",
        "# after_aggregation_480_epochs_8_fl-rounds\n",
        "!mkdir ./models/alexnet/after_aggregation_480_epochs_8_fl-rounds\n",
        "!mkdir ./models/alexnet/after_aggregation_480_epochs_8_fl-rounds/stl10    # file"
      ]
    },
    {
      "cell_type": "markdown",
      "metadata": {
        "id": "0PCMLBzOJCn8"
      },
      "source": [
        "## Downloading 30 epochs 6 FL_round\n"
      ]
    },
    {
      "cell_type": "code",
      "execution_count": null,
      "metadata": {
        "id": "CwnpYS0J8SFC"
      },
      "outputs": [],
      "source": [
        "# gdown.download('https://drive.google.com/file/d/1CPDtFJjgmv6gCDS_g3aq2h2KRNJ5SwvG/view?usp=drive_link', './models/alexnet/30_epochs_5_fl-rounds/svhn/node_0.pth', quiet=True,fuzzy=True)\n",
        "# gdown.download('https://drive.google.com/file/d/1mRvYgGOLKjT-LzMiBMFUGY-Rn_ahNR1N/view?usp=drive_link', './models/alexnet/30_epochs_5_fl-rounds/svhn/node_1.pth', quiet=True,fuzzy=True)\n",
        "# gdown.download('https://drive.google.com/file/d/1-0otn5iE1X9nr_gM9hjJVVyAbWsnMTQH/view?usp=drive_link', './models/alexnet/30_epochs_5_fl-rounds/svhn/node_2.pth', quiet=True,fuzzy=True)\n",
        "# gdown.download('https://drive.google.com/file/d/1wHHkKtS0lBQekrvpQK3OdabgzMwtqywT/view?usp=drive_link', './models/alexnet/30_epochs_5_fl-rounds/svhn/node_3.pth', quiet=True,fuzzy=True)\n",
        "# gdown.download('https://drive.google.com/file/d/1PnigwJKYowB-oUe93ezCkExaNOKcEyvE/view?usp=drive_link', './models/alexnet/30_epochs_5_fl-rounds/svhn/node_4.pth', quiet=True,fuzzy=True)\n",
        "# gdown.download('https://drive.google.com/file/d/1y0NrAI-TK2_TFlOl7ray4--MjscbWP5y/view?usp=drive_link', './models/alexnet/30_epochs_5_fl-rounds/svhn/node_5.pth', quiet=True,fuzzy=True)\n",
        "# gdown.download('https://drive.google.com/file/d/1vOMdwDPj7IZTuTlWMTCTx-ydkCaa5XxJ/view?usp=drive_link', './models/alexnet/30_epochs_5_fl-rounds/svhn/node_6.pth', quiet=True,fuzzy=True)\n",
        "# gdown.download('https://drive.google.com/file/d/1urVXQSdGQdU5fPF6vXfMFNFB14l5QAvU/view?usp=drive_link', './models/alexnet/30_epochs_5_fl-rounds/svhn/node_7.pth', quiet=True,fuzzy=True)\n",
        "# gdown.download('https://drive.google.com/file/d/1EfhIbKV3NYVEzXyJDlFEr3eFnxn9m_I8/view?usp=drive_link', './models/alexnet/30_epochs_5_fl-rounds/svhn/node_8.pth', quiet=True,fuzzy=True)\n",
        "# gdown.download('https://drive.google.com/file/d/1_mfgGRz6SC9tui07gGWu2FX-HfIPpH7U/view?usp=drive_link', './models/alexnet/30_epochs_5_fl-rounds/svhn/node_9.pth', quiet=True,fuzzy=True)\n",
        "\n",
        "# print(\"30_epochs_5_fl-rounds svhn models:\")\n",
        "# os.listdir(\"./models/alexnet/30_epochs_5_fl-rounds/svhn/\")\n",
        "\n",
        "# gdown.download('https://drive.google.com/file/d/14PJEHXEa3CsmB5IZ10Zm2hNXDaM7bwWh/view?usp=drive_link', './models/alexnet/new_30_epochs_5_fl-rounds/svhn/node_0.pth', quiet=True,fuzzy=True)\n",
        "# gdown.download('https://drive.google.com/file/d/1dosoXP2MW-KReUgO7_zUzfD0z_Joo0-t/view?usp=drive_link', './models/alexnet/new_30_epochs_5_fl-rounds/svhn/node_1.pth', quiet=True,fuzzy=True)\n",
        "# gdown.download('https://drive.google.com/file/d/1D2AlwPw3lEXYFHqePxMZJvZ9HF4IT0mc/view?usp=drive_link', './models/alexnet/new_30_epochs_5_fl-rounds/svhn/node_2.pth', quiet=True,fuzzy=True)\n",
        "# gdown.download('https://drive.google.com/file/d/1PP82t74hUL5b8wn98l1n2Tc7x0R25xaj/view?usp=drive_link', './models/alexnet/new_30_epochs_5_fl-rounds/svhn/node_3.pth', quiet=True,fuzzy=True)\n",
        "# gdown.download('https://drive.google.com/file/d/1wICtwb1DYbX7EcfYpdpsui9Hcm-0YJPN/view?usp=drive_link', './models/alexnet/new_30_epochs_5_fl-rounds/svhn/node_4.pth', quiet=True,fuzzy=True)\n",
        "# gdown.download('https://drive.google.com/file/d/1LGeUpZIdrskaptsYlgJvUmDT72CjeP3r/view?usp=drive_link', './models/alexnet/new_30_epochs_5_fl-rounds/svhn/node_5.pth', quiet=True,fuzzy=True)\n",
        "# gdown.download('https://drive.google.com/file/d/1UFBX2nfMNK8wa8smVpfr8L7_XC0VIXgt/view?usp=drive_link', './models/alexnet/new_30_epochs_5_fl-rounds/svhn/node_6.pth', quiet=True,fuzzy=True)\n",
        "# gdown.download('https://drive.google.com/file/d/1ei_IgWbsmo2qNHBFx0SviqN_WVrLHJfc/view?usp=drive_link', './models/alexnet/new_30_epochs_5_fl-rounds/svhn/node_7.pth', quiet=True,fuzzy=True)\n",
        "# gdown.download('https://drive.google.com/file/d/1RsZ_aZFvK0eUjQsR4aF-IdDbB8gGtoyH/view?usp=drive_link', './models/alexnet/new_30_epochs_5_fl-rounds/svhn/node_8.pth', quiet=True,fuzzy=True)\n",
        "# gdown.download('https://drive.google.com/file/d/1krmjPbmpPH6ION6BW-adY3iekLnLCt2y/view?usp=drive_link', './models/alexnet/new_30_epochs_5_fl-rounds/svhn/node_9.pth', quiet=True,fuzzy=True)\n",
        "\n",
        "# print(\"new_30_epochs_5_fl-rounds svhn models:\")\n",
        "# os.listdir(\"./models/alexnet/new_30_epochs_5_fl-rounds/svhn/\")\n",
        "\n",
        "\n",
        "# gdown.download('https://drive.google.com/file/d/1CH-G98zotx2PwCQwCGFvrmpJVJ3ZVtZH/view?usp=drive_link', './models/alexnet/30_epochs_5_fl-rounds/cifar10/node_0.pth', quiet=False,fuzzy=True)\n",
        "# gdown.download('https://drive.google.com/file/d/18aPx6cSZT_XBG4y8VbvKF9hml3A1paE_/view?usp=drive_link', './models/alexnet/30_epochs_5_fl-rounds/cifar10/node_1.pth', quiet=False,fuzzy=True)\n",
        "# gdown.download('https://drive.google.com/file/d/1nJ7o6RJeQR6KMc6gsiHvc8RP6v3pUsLA/view?usp=drive_link', './models/alexnet/30_epochs_5_fl-rounds/cifar10/node_2.pth', quiet=False,fuzzy=True)\n",
        "# gdown.download('https://drive.google.com/file/d/1m3pAQoSfQZPNZDsh07enqIoyqqsfy4Rl/view?usp=drive_link', './models/alexnet/30_epochs_5_fl-rounds/cifar10/node_3.pth', quiet=False,fuzzy=True)\n",
        "# gdown.download('https://drive.google.com/file/d/1OViYIOihwdg41gB3GZo0ef5LPdd0_3cK/view?usp=drive_link', './models/alexnet/30_epochs_5_fl-rounds/cifar10/node_4.pth', quiet=False,fuzzy=True)\n",
        "# gdown.download('https://drive.google.com/file/d/1uWvZbklEhTCVimKMg3H9Hf5VwvQwGFl-/view?usp=drive_link', './models/alexnet/30_epochs_5_fl-rounds/cifar10/node_5.pth', quiet=False,fuzzy=True)\n",
        "# gdown.download('https://drive.google.com/file/d/1QsAH3C3zjbKivwrhOjAJaqnS-ckyRJim/view?usp=drive_link', './models/alexnet/30_epochs_5_fl-rounds/cifar10/node_6.pth', quiet=False,fuzzy=True)\n",
        "# gdown.download('https://drive.google.com/file/d/1UksEbz1cvfo3MSGUHMmSvfQoyDjkPxAT/view?usp=drive_link', './models/alexnet/30_epochs_5_fl-rounds/cifar10/node_7.pth', quiet=False,fuzzy=True)\n",
        "# gdown.download('https://drive.google.com/file/d/1uVOmeLcFdF96lJY9jwO6rLtAf3EdRe0C/view?usp=drive_link', './models/alexnet/30_epochs_5_fl-rounds/cifar10/node_8.pth', quiet=False,fuzzy=True)\n",
        "# gdown.download('https://drive.google.com/file/d/12CQNQFJ1Yc_OHEX0AOe-RmvvKz69Dctw/view?usp=drive_link', './models/alexnet/30_epochs_5_fl-rounds/cifar10/node_9.pth', quiet=False,fuzzy=True)\n",
        "\n",
        "# print(\"30_epochs_5_fl-rounds cifar10 models:\")\n",
        "# os.listdir(\"./models/alexnet/30_epochs_5_fl-rounds/cifar10\")"
      ]
    },
    {
      "cell_type": "markdown",
      "metadata": {
        "id": "FAnKG3IgJPNB"
      },
      "source": [
        "## Downloading 6 epochs 1 FL_round\n"
      ]
    },
    {
      "cell_type": "code",
      "execution_count": null,
      "metadata": {
        "id": "xLtDidlJ8x4V"
      },
      "outputs": [],
      "source": [
        "# gdown.download('https://drive.google.com/file/d/18dBfe0rNKIgZG-RNyxFZXiLxpv6XHwHa/view?usp=drive_link', './models/alexnet/6_epochs_1_fl-rounds/svhn/node_0.pth', quiet=True,fuzzy=True)\n",
        "# gdown.download('https://drive.google.com/file/d/15SkSP1JAwIuwPLn508OMDObA1njFOYhl/view?usp=drive_link', './models/alexnet/6_epochs_1_fl-rounds/svhn/node_1.pth', quiet=True,fuzzy=True)\n",
        "# gdown.download('https://drive.google.com/file/d/1DqT2EagsiGikGQTiMYD3oNJ4YWOhc2Yz/view?usp=drive_link', './models/alexnet/6_epochs_1_fl-rounds/svhn/node_2.pth', quiet=True,fuzzy=True)\n",
        "# gdown.download('https://drive.google.com/file/d/1NBXok7PhT4FAx6Bnqq9i6WG6XOGbj4SI/view?usp=drive_link', './models/alexnet/6_epochs_1_fl-rounds/svhn/node_3.pth', quiet=True,fuzzy=True)\n",
        "# gdown.download('https://drive.google.com/file/d/1H2kp08I2BF7X6xW9MqkOgMQvYYBcFf-u/view?usp=drive_link', './models/alexnet/6_epochs_1_fl-rounds/svhn/node_4.pth', quiet=True,fuzzy=True)\n",
        "# gdown.download('https://drive.google.com/file/d/1QB4QfrGTS-sB4-cHhNrf1oXUDZigrG6_/view?usp=drive_link', './models/alexnet/6_epochs_1_fl-rounds/svhn/node_5.pth', quiet=True,fuzzy=True)\n",
        "# gdown.download('https://drive.google.com/file/d/1bbT4R0BO3MOPGqpugY0HIKWW8Ffts_xw/view?usp=drive_link', './models/alexnet/6_epochs_1_fl-rounds/svhn/node_6.pth', quiet=True,fuzzy=True)\n",
        "# gdown.download('https://drive.google.com/file/d/1laORdEojvSvTq04qTxEC_G6_IL5iiiQc/view?usp=drive_link', './models/alexnet/6_epochs_1_fl-rounds/svhn/node_7.pth', quiet=True,fuzzy=True)\n",
        "# gdown.download('https://drive.google.com/file/d/1H78A0JvYm5I0lvTMHsmkjOFMe4yAKXcH/view?usp=drive_link', './models/alexnet/6_epochs_1_fl-rounds/svhn/node_8.pth', quiet=True,fuzzy=True)\n",
        "# gdown.download('https://drive.google.com/file/d/1NOwx9TUVUGjr_qZhi1MJwXRv18K0jGsz/view?usp=drive_link', './models/alexnet/6_epochs_1_fl-rounds/svhn/node_9.pth', quiet=True,fuzzy=True)\n",
        "\n",
        "\n",
        "# gdown.download('https://drive.google.com/file/d/1fFZwHBnDRwc4UDU4YDc42vV1DyQ4W2Kf/view?usp=drive_link', './models/alexnet/6_epochs_1_fl-rounds/cifar10/node_0.pth', quiet=True,fuzzy=True)\n",
        "# gdown.download('https://drive.google.com/file/d/1CPeyEWIRXt_EMvrKVOscYN5xncownbSF/view?usp=drive_link', './models/alexnet/6_epochs_1_fl-rounds/cifar10/node_1.pth', quiet=True,fuzzy=True)\n",
        "# gdown.download('https://drive.google.com/file/d/1kz998-LUyhmSIAZezEYq3aFodvNF1T5N/view?usp=drive_link', './models/alexnet/6_epochs_1_fl-rounds/cifar10/node_2.pth', quiet=True,fuzzy=True)\n",
        "# gdown.download('https://drive.google.com/file/d/1EEhXXJcQFE183myQ1v6gU6DgjvjVYqXo/view?usp=drive_link', './models/alexnet/6_epochs_1_fl-rounds/cifar10/node_3.pth', quiet=True,fuzzy=True)\n",
        "# gdown.download('https://drive.google.com/file/d/1OkQRVv6GxZrzWbHwiTszhIxMH3Bsav_C/view?usp=drive_link', './models/alexnet/6_epochs_1_fl-rounds/cifar10/node_4.pth', quiet=True,fuzzy=True)\n",
        "# gdown.download('https://drive.google.com/file/d/15gLhx1BxYHk1wN3SKxRLolcmqD5i32_n/view?usp=drive_link', './models/alexnet/6_epochs_1_fl-rounds/cifar10/node_5.pth', quiet=True,fuzzy=True)\n",
        "# gdown.download('https://drive.google.com/file/d/1TI6Re2EZrndsvZ1-wdhsp2908NpXz4pJ/view?usp=drive_link', './models/alexnet/6_epochs_1_fl-rounds/cifar10/node_6.pth', quiet=True,fuzzy=True)\n",
        "# gdown.download('https://drive.google.com/file/d/146xZfT2_jaSaNjTJH1tHiTQysNzwPNVS/view?usp=drive_link', './models/alexnet/6_epochs_1_fl-rounds/cifar10/node_7.pth', quiet=True,fuzzy=True)\n",
        "# gdown.download('https://drive.google.com/file/d/1WPVt5ukcHgmD_PtmsoraLlUNs-MOO-23/view?usp=drive_link', './models/alexnet/6_epochs_1_fl-rounds/cifar10/node_8.pth', quiet=True,fuzzy=True)\n",
        "# gdown.download('https://drive.google.com/file/d/19Qc1ni4ptK10EKUnp21T5fJQRahHH21C/view?usp=drive_link', './models/alexnet/6_epochs_1_fl-rounds/cifar10/node_9.pth', quiet=True,fuzzy=True)\n",
        "\n",
        "# print(\"6_epochs_1_fl-rounds svhn models:\")\n",
        "# os.listdir(\"./models/alexnet/6_epochs_1_fl-rounds/svhn/\")\n",
        "\n",
        "# print(\"6_epochs_1_fl-rounds cifar10 models:\")\n",
        "# os.listdir(\"./models/alexnet/6_epochs_1_fl-rounds/cifar10\")\n"
      ]
    },
    {
      "cell_type": "markdown",
      "metadata": {
        "id": "L9ZmaUXKyVP1"
      },
      "source": [
        "## Downloading 24 epochs 4 FL_round\n"
      ]
    },
    {
      "cell_type": "code",
      "execution_count": null,
      "metadata": {
        "id": "y-oDYoO5Ancf"
      },
      "outputs": [],
      "source": [
        "# gdown.download('https://drive.google.com/file/d/1Nt-FFvQmUCapwGvv4O9snAsWyF_69kWH/view?usp=drive_link', './models/alexnet/24_epochs_4_fl-rounds/svhn/node_0.pth', quiet=True,fuzzy=True)\n",
        "# gdown.download('https://drive.google.com/file/d/1MiB4Y-J7knJzmGmeUS_lN1q3BByGDuhY/view?usp=drive_link', './models/alexnet/24_epochs_4_fl-rounds/svhn/node_1.pth', quiet=True,fuzzy=True)\n",
        "# gdown.download('https://drive.google.com/file/d/1aLTGpDxQL51Fz3spq1LmvcZm8pJ343D1/view?usp=drive_link', './models/alexnet/24_epochs_4_fl-rounds/svhn/node_2.pth', quiet=True,fuzzy=True)\n",
        "# gdown.download('https://drive.google.com/file/d/1_7Wg-WgTZcAGevR161sPsDUt_-jIdPHg/view?usp=drive_link', './models/alexnet/24_epochs_4_fl-rounds/svhn/node_3.pth', quiet=True,fuzzy=True)\n",
        "# gdown.download('https://drive.google.com/file/d/1Xdi8hwBYzMkjMn0NGzIcAxbKEZP8hQwc/view?usp=drive_link', './models/alexnet/24_epochs_4_fl-rounds/svhn/node_4.pth', quiet=True,fuzzy=True)\n",
        "# gdown.download('https://drive.google.com/file/d/1kT9PDdhAJxQUIM189yH3x0hs0IXnwtIA/view?usp=drive_link', './models/alexnet/24_epochs_4_fl-rounds/svhn/node_5.pth', quiet=True,fuzzy=True)\n",
        "# gdown.download('https://drive.google.com/file/d/1FupJVsVC9ZglcrOArI4oMF987RbX405Y/view?usp=drive_link', './models/alexnet/24_epochs_4_fl-rounds/svhn/node_6.pth', quiet=True,fuzzy=True)\n",
        "# gdown.download('https://drive.google.com/file/d/1UaCkQ52D1BX88jQRKkM5MA5hHwIXKcB1/view?usp=drive_link', './models/alexnet/24_epochs_4_fl-rounds/svhn/node_7.pth', quiet=True,fuzzy=True)\n",
        "# gdown.download('https://drive.google.com/file/d/1RIVU2Ya2Pcm1Qt0nYa8w1qx1z9-7iEzS/view?usp=drive_link', './models/alexnet/24_epochs_4_fl-rounds/svhn/node_8.pth', quiet=True,fuzzy=True)\n",
        "# gdown.download('https://drive.google.com/file/d/1wzrO6JB92bNhf_uGx9NMhv3zWKVpDJ9V/view?usp=drive_link', './models/alexnet/24_epochs_4_fl-rounds/svhn/node_9.pth', quiet=True,fuzzy=True)\n",
        "\n",
        "\n",
        "# gdown.download('https://drive.google.com/file/d/1fFZwHBnDRwc4UDU4YDc42vV1DyQ4W2Kf/view?usp=drive_link', './models/alexnet/24_epochs_4_fl-rounds/cifar10/node_0.pth', quiet=True,fuzzy=True)\n",
        "# gdown.download('https://drive.google.com/file/d/1CPeyEWIRXt_EMvrKVOscYN5xncownbSF/view?usp=drive_link', './models/alexnet/24_epochs_4_fl-rounds/cifar10/node_1.pth', quiet=True,fuzzy=True)\n",
        "# gdown.download('https://drive.google.com/file/d/1kz998-LUyhmSIAZezEYq3aFodvNF1T5N/view?usp=drive_link', './models/alexnet/24_epochs_4_fl-rounds/cifar10/node_2.pth', quiet=True,fuzzy=True)\n",
        "# gdown.download('https://drive.google.com/file/d/1EEhXXJcQFE183myQ1v6gU6DgjvjVYqXo/view?usp=drive_link', './models/alexnet/24_epochs_4_fl-rounds/cifar10/node_3.pth', quiet=True,fuzzy=True)\n",
        "# gdown.download('https://drive.google.com/file/d/1OkQRVv6GxZrzWbHwiTszhIxMH3Bsav_C/view?usp=drive_link', './models/alexnet/24_epochs_4_fl-rounds/cifar10/node_4.pth', quiet=True,fuzzy=True)\n",
        "# gdown.download('https://drive.google.com/file/d/15gLhx1BxYHk1wN3SKxRLolcmqD5i32_n/view?usp=drive_link', './models/alexnet/24_epochs_4_fl-rounds/cifar10/node_5.pth', quiet=True,fuzzy=True)\n",
        "# gdown.download('https://drive.google.com/file/d/1TI6Re2EZrndsvZ1-wdhsp2908NpXz4pJ/view?usp=drive_link', './models/alexnet/24_epochs_4_fl-rounds/cifar10/node_6.pth', quiet=True,fuzzy=True)\n",
        "# gdown.download('https://drive.google.com/file/d/146xZfT2_jaSaNjTJH1tHiTQysNzwPNVS/view?usp=drive_link', './models/alexnet/24_epochs_4_fl-rounds/cifar10/node_7.pth', quiet=True,fuzzy=True)\n",
        "# gdown.download('https://drive.google.com/file/d/1WPVt5ukcHgmD_PtmsoraLlUNs-MOO-23/view?usp=drive_link', './models/alexnet/24_epochs_4_fl-rounds/cifar10/node_8.pth', quiet=True,fuzzy=True)\n",
        "# gdown.download('https://drive.google.com/file/d/19Qc1ni4ptK10EKUnp21T5fJQRahHH21C/view?usp=drive_link', './models/alexnet/24_epochs_4_fl-rounds/cifar10/node_9.pth', quiet=True,fuzzy=True)\n",
        "\n",
        "# print(\"24_epochs_4_fl-rounds svhn models:\")\n",
        "# os.listdir(\"./models/alexnet/24_epochs_4_fl-rounds/svhn/\")\n",
        "\n",
        "# print(\"24_epochs_4_fl-rounds cifar10 models:\")\n",
        "# os.listdir(\"./models/alexnet/24_epochs_4_fl-rounds/cifar10\")\n"
      ]
    },
    {
      "cell_type": "markdown",
      "metadata": {
        "id": "ZKTReOMHAlCj"
      },
      "source": [
        "## Downloading 36 epochs 6 FL_round\n"
      ]
    },
    {
      "cell_type": "code",
      "execution_count": null,
      "metadata": {
        "id": "UL0MDo7i4M2l"
      },
      "outputs": [],
      "source": [
        "# gdown.download('https://drive.google.com/file/d/13qQGdAe0toTPn2e9F3TDkLzP3JdiYlC0/view?usp=drive_link', './models/alexnet/36_epochs_6_fl-rounds/svhn/node_0.pth', quiet=True,fuzzy=True)\n",
        "# gdown.download('https://drive.google.com/file/d/17mh6hrDFvRuzMDflGBfQr9aid5pezL__/view?usp=drive_link', './models/alexnet/36_epochs_6_fl-rounds/svhn/node_1.pth', quiet=True,fuzzy=True)\n",
        "# gdown.download('https://drive.google.com/file/d/1E-4onrWMuhbVay_CPn3lpHL5bdnzQ9Yz/view?usp=drive_link', './models/alexnet/36_epochs_6_fl-rounds/svhn/node_2.pth', quiet=True,fuzzy=True)\n",
        "# gdown.download('https://drive.google.com/file/d/1SlO5b3qlBKvUSHNMNGeaq9vQq6O7FbdL/view?usp=drive_link', './models/alexnet/36_epochs_6_fl-rounds/svhn/node_3.pth', quiet=True,fuzzy=True)\n",
        "# gdown.download('https://drive.google.com/file/d/1nP9BxLAmk89dRaOaZ6tR2J__7AArRkCR/view?usp=drive_link', './models/alexnet/36_epochs_6_fl-rounds/svhn/node_4.pth', quiet=True,fuzzy=True)\n",
        "# gdown.download('https://drive.google.com/file/d/1fNa2EefhVgp4GRKEI8lXuuzZ3AcXcZV4/view?usp=drive_link', './models/alexnet/36_epochs_6_fl-rounds/svhn/node_5.pth', quiet=True,fuzzy=True)\n",
        "# gdown.download('https://drive.google.com/file/d/1npBkTr46ZOEf4fGYuWew5pCC6HUAKnON/view?usp=drive_link', './models/alexnet/36_epochs_6_fl-rounds/svhn/node_6.pth', quiet=True,fuzzy=True)\n",
        "# gdown.download('https://drive.google.com/file/d/1RPwBERMJknwJ0ftLSo7CJmyg9rNyMWhS/view?usp=drive_link', './models/alexnet/36_epochs_6_fl-rounds/svhn/node_7.pth', quiet=True,fuzzy=True)\n",
        "# gdown.download('https://drive.google.com/file/d/125szB-3Ye0n01hXJpMrf_rpQ3nbZjYHv/view?usp=drive_link', './models/alexnet/36_epochs_6_fl-rounds/svhn/node_8.pth', quiet=True,fuzzy=True)\n",
        "# gdown.download('https://drive.google.com/file/d/1rF9x0AhXbq11T1ylAcROpp-gHqjR6D8S/view?usp=drive_link', './models/alexnet/36_epochs_6_fl-rounds/svhn/node_9.pth', quiet=True,fuzzy=True)\n",
        "\n",
        "\n",
        "# gdown.download('https://drive.google.com/file/d/1fFZwHBnDRwc4UDU4YDc42vV1DyQ4W2Kf/view?usp=drive_link', './models/alexnet/36_epochs_6_fl-rounds/cifar10/node_0.pth', quiet=True,fuzzy=True)\n",
        "# gdown.download('https://drive.google.com/file/d/1CPeyEWIRXt_EMvrKVOscYN5xncownbSF/view?usp=drive_link', './models/alexnet/36_epochs_6_fl-rounds/cifar10/node_1.pth', quiet=True,fuzzy=True)\n",
        "# gdown.download('https://drive.google.com/file/d/1kz998-LUyhmSIAZezEYq3aFodvNF1T5N/view?usp=drive_link', './models/alexnet/36_epochs_6_fl-rounds/cifar10/node_2.pth', quiet=True,fuzzy=True)\n",
        "# gdown.download('https://drive.google.com/file/d/1EEhXXJcQFE183myQ1v6gU6DgjvjVYqXo/view?usp=drive_link', './models/alexnet/36_epochs_6_fl-rounds/cifar10/node_3.pth', quiet=True,fuzzy=True)\n",
        "# gdown.download('https://drive.google.com/file/d/1OkQRVv6GxZrzWbHwiTszhIxMH3Bsav_C/view?usp=drive_link', './models/alexnet/36_epochs_6_fl-rounds/cifar10/node_4.pth', quiet=True,fuzzy=True)\n",
        "# gdown.download('https://drive.google.com/file/d/15gLhx1BxYHk1wN3SKxRLolcmqD5i32_n/view?usp=drive_link', './models/alexnet/36_epochs_6_fl-rounds/cifar10/node_5.pth', quiet=True,fuzzy=True)\n",
        "# gdown.download('https://drive.google.com/file/d/1TI6Re2EZrndsvZ1-wdhsp2908NpXz4pJ/view?usp=drive_link', './models/alexnet/36_epochs_6_fl-rounds/cifar10/node_6.pth', quiet=True,fuzzy=True)\n",
        "# gdown.download('https://drive.google.com/file/d/146xZfT2_jaSaNjTJH1tHiTQysNzwPNVS/view?usp=drive_link', './models/alexnet/36_epochs_6_fl-rounds/cifar10/node_7.pth', quiet=True,fuzzy=True)\n",
        "# gdown.download('https://drive.google.com/file/d/1WPVt5ukcHgmD_PtmsoraLlUNs-MOO-23/view?usp=drive_link', './models/alexnet/36_epochs_6_fl-rounds/cifar10/node_8.pth', quiet=True,fuzzy=True)\n",
        "# gdown.download('https://drive.google.com/file/d/19Qc1ni4ptK10EKUnp21T5fJQRahHH21C/view?usp=drive_link', './models/alexnet/36_epochs_6_fl-rounds/cifar10/node_9.pth', quiet=True,fuzzy=True)\n",
        "\n",
        "# print(\"36_epochs_6_fl-rounds svhn models:\")\n",
        "# os.listdir(\"./models/alexnet/36_epochs_6_fl-rounds/svhn/\")\n",
        "\n",
        "# print(\"36_epochs_6_fl-rounds cifar10 models:\")\n",
        "# os.listdir(\"./models/alexnet/36_epochs_6_fl-rounds/cifar10\")\n"
      ]
    },
    {
      "cell_type": "markdown",
      "metadata": {
        "id": "W0lc_KK64MMa"
      },
      "source": [
        "## Downloading 48 epochs 8 FL_round\n"
      ]
    },
    {
      "cell_type": "code",
      "execution_count": null,
      "metadata": {
        "id": "lOlULAbQyWWI"
      },
      "outputs": [],
      "source": [
        "# gdown.download('https://drive.google.com/file/d/1n8RnsqxfMUIPKZAB82E4CKNrY6UPyz-v/view?usp=drive_link', './models/alexnet/48_epochs_8_fl-rounds/svhn/node_0.pth', quiet=True,fuzzy=True)\n",
        "# gdown.download('https://drive.google.com/file/d/1qJz-PmcABt0qB6g31lxHp5pvffkzirJe/view?usp=drive_link', './models/alexnet/48_epochs_8_fl-rounds/svhn/node_1.pth', quiet=True,fuzzy=True)\n",
        "# gdown.download('https://drive.google.com/file/d/1lkfaMxCl7s67ZcwJTKqynIVqaTMT1Xx0/view?usp=drive_link', './models/alexnet/48_epochs_8_fl-rounds/svhn/node_2.pth', quiet=True,fuzzy=True)\n",
        "# gdown.download('https://drive.google.com/file/d/1anmLdav8gZcusx3MuRGgVzuIuBq_YsKr/view?usp=drive_link', './models/alexnet/48_epochs_8_fl-rounds/svhn/node_3.pth', quiet=True,fuzzy=True)\n",
        "# gdown.download('https://drive.google.com/file/d/12_s33DqIHt_o4XAGoW3WTTKEl3Clxxg0/view?usp=drive_link', './models/alexnet/48_epochs_8_fl-rounds/svhn/node_4.pth', quiet=True,fuzzy=True)\n",
        "# gdown.download('https://drive.google.com/file/d/15HMnPmk_t2KcGey8N7kvJcl3p3-I81zg/view?usp=drive_link', './models/alexnet/48_epochs_8_fl-rounds/svhn/node_5.pth', quiet=True,fuzzy=True)\n",
        "# gdown.download('https://drive.google.com/file/d/1eoV-T5mkzCLkiaJFefM7AtgZjiWSp6Rk/view?usp=drive_link', './models/alexnet/48_epochs_8_fl-rounds/svhn/node_6.pth', quiet=True,fuzzy=True)\n",
        "# gdown.download('https://drive.google.com/file/d/1GyWKaCCBISANzpZlVxIoCXefOMmGpFFJ/view?usp=drive_link', './models/alexnet/48_epochs_8_fl-rounds/svhn/node_7.pth', quiet=True,fuzzy=True)\n",
        "# gdown.download('https://drive.google.com/file/d/1o9I_-Mhg9qQyQ4lkjXMz2oaNbflJwtDJ/view?usp=drive_link', './models/alexnet/48_epochs_8_fl-rounds/svhn/node_8.pth', quiet=True,fuzzy=True)\n",
        "# gdown.download('https://drive.google.com/file/d/1AbAaCkeosP6MlsFOWsBIc26iX94OVsBx/view?usp=drive_link', './models/alexnet/48_epochs_8_fl-rounds/svhn/node_9.pth', quiet=True,fuzzy=True)\n",
        "\n",
        "\n",
        "# gdown.download('https://drive.google.com/file/d/1Y5riZqti3NNsHtbWHHGgLYQ_FCTnQ7dA/view?usp=drive_link', './models/alexnet/new_48_epochs_8_fl-rounds/svhn/node_0.pth', quiet=True,fuzzy=True)\n",
        "# gdown.download('https://drive.google.com/file/d/1iMDxzmy4tPa5vSybZsH6pGYnVElN84UN/view?usp=drive_link', './models/alexnet/new_48_epochs_8_fl-rounds/svhn/node_1.pth', quiet=True,fuzzy=True)\n",
        "# gdown.download('https://drive.google.com/file/d/1aMdNlxngw1JjFgvm-FqYrA6QEUodsVB2/view?usp=drive_link', './models/alexnet/new_48_epochs_8_fl-rounds/svhn/node_2.pth', quiet=True,fuzzy=True)\n",
        "# gdown.download('https://drive.google.com/file/d/1U0H9dY2HfUSPbM_mIa6cwOaicGeK5jzT/view?usp=drive_link', './models/alexnet/new_48_epochs_8_fl-rounds/svhn/node_3.pth', quiet=True,fuzzy=True)\n",
        "# gdown.download('https://drive.google.com/file/d/1wG5cNgcActmwwRUo2gTUGkvTH91hpspv/view?usp=drive_link', './models/alexnet/new_48_epochs_8_fl-rounds/svhn/node_4.pth', quiet=True,fuzzy=True)\n",
        "# gdown.download('https://drive.google.com/file/d/1QqVAFu6IuiRwmv-dWxRg2pcS8czqcNfh/view?usp=drive_link', './models/alexnet/new_48_epochs_8_fl-rounds/svhn/node_5.pth', quiet=True,fuzzy=True)\n",
        "# gdown.download('https://drive.google.com/file/d/1GDOMRGhbNSVcSphieT8GQevAn57BHPM_/view?usp=drive_link', './models/alexnet/new_48_epochs_8_fl-rounds/svhn/node_6.pth', quiet=True,fuzzy=True)\n",
        "# gdown.download('https://drive.google.com/file/d/1eqbESYPM5-Zb83GgcvBICed0zJ_O52sC/view?usp=drive_link', './models/alexnet/new_48_epochs_8_fl-rounds/svhn/node_7.pth', quiet=True,fuzzy=True)\n",
        "# gdown.download('https://drive.google.com/file/d/11dbTRU7Q1AoA1-n2iuHfjC7GWUXK63E8/view?usp=drive_link', './models/alexnet/new_48_epochs_8_fl-rounds/svhn/node_8.pth', quiet=True,fuzzy=True)\n",
        "# gdown.download('https://drive.google.com/file/d/1C5a2eir8JqH-QkfWpzrnDV6EX7u_UIwB/view?usp=drive_link', './models/alexnet/new_48_epochs_8_fl-rounds/svhn/node_9.pth', quiet=True,fuzzy=True)\n",
        "\n",
        "\n",
        "# gdown.download('https://drive.google.com/file/d/1fFZwHBnDRwc4UDU4YDc42vV1DyQ4W2Kf/view?usp=drive_link', './models/alexnet/48_epochs_8_fl-rounds/cifar10/node_0.pth', quiet=True,fuzzy=True)\n",
        "# gdown.download('https://drive.google.com/file/d/1CPeyEWIRXt_EMvrKVOscYN5xncownbSF/view?usp=drive_link', './models/alexnet/48_epochs_8_fl-rounds/cifar10/node_1.pth', quiet=True,fuzzy=True)\n",
        "# gdown.download('https://drive.google.com/file/d/1kz998-LUyhmSIAZezEYq3aFodvNF1T5N/view?usp=drive_link', './models/alexnet/48_epochs_8_fl-rounds/cifar10/node_2.pth', quiet=True,fuzzy=True)\n",
        "# gdown.download('https://drive.google.com/file/d/1EEhXXJcQFE183myQ1v6gU6DgjvjVYqXo/view?usp=drive_link', './models/alexnet/48_epochs_8_fl-rounds/cifar10/node_3.pth', quiet=True,fuzzy=True)\n",
        "# gdown.download('https://drive.google.com/file/d/1OkQRVv6GxZrzWbHwiTszhIxMH3Bsav_C/view?usp=drive_link', './models/alexnet/48_epochs_8_fl-rounds/cifar10/node_4.pth', quiet=True,fuzzy=True)\n",
        "# gdown.download('https://drive.google.com/file/d/15gLhx1BxYHk1wN3SKxRLolcmqD5i32_n/view?usp=drive_link', './models/alexnet/48_epochs_8_fl-rounds/cifar10/node_5.pth', quiet=True,fuzzy=True)\n",
        "# gdown.download('https://drive.google.com/file/d/1TI6Re2EZrndsvZ1-wdhsp2908NpXz4pJ/view?usp=drive_link', './models/alexnet/48_epochs_8_fl-rounds/cifar10/node_6.pth', quiet=True,fuzzy=True)\n",
        "# gdown.download('https://drive.google.com/file/d/146xZfT2_jaSaNjTJH1tHiTQysNzwPNVS/view?usp=drive_link', './models/alexnet/48_epochs_8_fl-rounds/cifar10/node_7.pth', quiet=True,fuzzy=True)\n",
        "# gdown.download('https://drive.google.com/file/d/1WPVt5ukcHgmD_PtmsoraLlUNs-MOO-23/view?usp=drive_link', './models/alexnet/48_epochs_8_fl-rounds/cifar10/node_8.pth', quiet=True,fuzzy=True)\n",
        "# gdown.download('https://drive.google.com/file/d/19Qc1ni4ptK10EKUnp21T5fJQRahHH21C/view?usp=drive_link', './models/alexnet/48_epochs_8_fl-rounds/cifar10/node_9.pth', quiet=True,fuzzy=True)\n",
        "\n",
        "# print(\"48_epochs_8_fl-rounds svhn models:\")\n",
        "# os.listdir(\"./models/alexnet/48_epochs_8_fl-rounds/svhn/\")\n",
        "\n",
        "# print(\"48_epochs_8_fl-rounds cifar10 models:\")\n",
        "# os.listdir(\"./models/alexnet/48_epochs_8_fl-rounds/cifar10\")\n"
      ]
    },
    {
      "cell_type": "markdown",
      "metadata": {
        "id": "UVvSO1OJObHg"
      },
      "source": [
        "## Downloading 12 epochs 2 FL_round\n"
      ]
    },
    {
      "cell_type": "code",
      "execution_count": null,
      "metadata": {
        "id": "uQBmF1hVeI2y"
      },
      "outputs": [],
      "source": [
        "# gdown.download('https://drive.google.com/file/d/1LP8XGkLF8e1XyjIKjQkCFXqh6n7Jid2o/view?usp=drive_link', './models/alexnet/12_epochs_2_pt_fl-rounds/svhn/node_0.pth', quiet=True,fuzzy=True)\n",
        "# gdown.download('https://drive.google.com/file/d/13h-kXBTKPX37lAYPaLvHGTOqy_Wcz_ei/view?usp=drive_link', './models/alexnet/12_epochs_2_pt_fl-rounds/svhn/node_1.pth', quiet=True,fuzzy=True)\n",
        "# gdown.download('https://drive.google.com/file/d/19MDBwUnLnwxli4UcDdkoUsOfuPo8LBjL/view?usp=drive_link', './models/alexnet/12_epochs_2_pt_fl-rounds/svhn/node_2.pth', quiet=True,fuzzy=True)\n",
        "# gdown.download('https://drive.google.com/file/d/1NzhIdAJHb_cNh-dyAE0NXIp95eBdDTb-/view?usp=drive_link', './models/alexnet/12_epochs_2_pt_fl-rounds/svhn/node_3.pth', quiet=True,fuzzy=True)\n",
        "# gdown.download('https://drive.google.com/file/d/1RTq3ziIG8nNpX0T6O2e5Z5ZPgX5zDevn/view?usp=drive_link', './models/alexnet/12_epochs_2_pt_fl-rounds/svhn/node_4.pth', quiet=True,fuzzy=True)\n",
        "# gdown.download('https://drive.google.com/file/d/1d6S-QKkW0zocWU9uVofgNaaeH-mMQ22J/view?usp=drive_link', './models/alexnet/12_epochs_2_pt_fl-rounds/svhn/node_5.pth', quiet=True,fuzzy=True)\n",
        "# gdown.download('https://drive.google.com/file/d/1Y4mgc9pAkP3uLqAHTqbSlC_E3AD8Qdbw/view?usp=drive_link', './models/alexnet/12_epochs_2_pt_fl-rounds/svhn/node_6.pth', quiet=True,fuzzy=True)\n",
        "# gdown.download('https://drive.google.com/file/d/1LKX7G55bL0-SrdgKaeuI3c2tgODd72-I/view?usp=drive_link ', './models/alexnet/12_epochs_2_pt_fl-rounds/svhn/node_7.pth', quiet=True,fuzzy=True)\n",
        "# gdown.download('https://drive.google.com/file/d/1ZEuCLYWZM-I6_RKzGBppvynmkzyEJJ2U/view?usp=drive_link', './models/alexnet/12_epochs_2_pt_fl-rounds/svhn/node_8.pth', quiet=True,fuzzy=True)\n",
        "# gdown.download('https://drive.google.com/file/d/1n6bz9LZV8bM25ocfCTbybw5UyQJvXBHh/view?usp=drive_link', './models/alexnet/12_epochs_2_pt_fl-rounds/svhn/node_9.pth', quiet=True,fuzzy=True)\n"
      ]
    },
    {
      "cell_type": "markdown",
      "metadata": {
        "id": "8_Kq3_r2eH4N"
      },
      "source": [
        "## Downloading 6 epochs 1 FL_round\n"
      ]
    },
    {
      "cell_type": "code",
      "execution_count": null,
      "metadata": {
        "id": "GegZ8nEEOcOD"
      },
      "outputs": [],
      "source": [
        "# gdown.download('https://drive.google.com/file/d/1cf1LKip4N5TM2EuQloWAd-40FV2tFmds/view?usp=drive_link', './models/alexnet/new_6_epochs_1_fl-rounds/svhn/node_0.pth', quiet=True,fuzzy=True)\n",
        "# gdown.download('https://drive.google.com/file/d/1f1SjBlUPhGJmxN-WDjiMRZUorvfqI-OT/view?usp=drive_link', './models/alexnet/new_6_epochs_1_fl-rounds/svhn/node_1.pth', quiet=True,fuzzy=True)\n",
        "# gdown.download('https://drive.google.com/file/d/1DjH8vuYv78ZH6eduYHucf9K0GlgV69jJ/view?usp=drive_link', './models/alexnet/new_6_epochs_1_fl-rounds/svhn/node_2.pth', quiet=True,fuzzy=True)\n",
        "# gdown.download('https://drive.google.com/file/d/1_uadFY7FzNWdtH-zuQqm8URFxDbTaFic/view?usp=drive_link', './models/alexnet/new_6_epochs_1_fl-rounds/svhn/node_3.pth', quiet=True,fuzzy=True)\n",
        "# gdown.download('https://drive.google.com/file/d/1BPegtFfrqnJ-4FYF4GfAQDkSz_gYg9fb/view?usp=drive_link', './models/alexnet/new_6_epochs_1_fl-rounds/svhn/node_4.pth', quiet=True,fuzzy=True)\n",
        "# gdown.download('https://drive.google.com/file/d/1MrzRie5h0Nk7coH1P5b2TP1kqf7H8QwD/view?usp=drive_link', './models/alexnet/new_6_epochs_1_fl-rounds/svhn/node_5.pth', quiet=True,fuzzy=True)\n",
        "# gdown.download('https://drive.google.com/file/d/1EML-gcseizFOTv3yMIddUng_QrzWAMwi/view?usp=drive_link', './models/alexnet/new_6_epochs_1_fl-rounds/svhn/node_6.pth', quiet=True,fuzzy=True)\n",
        "# gdown.download('https://drive.google.com/file/d/14B57dTMH1u-EmWyjUd6K3yKhpdvtKy5L/view?usp=drive_link', './models/alexnet/new_6_epochs_1_fl-rounds/svhn/node_7.pth', quiet=True,fuzzy=True)\n",
        "# gdown.download('https://drive.google.com/file/d/1wts-ooHbD8MdEmVTj3wFwFiWWMGsL8YS/view?usp=drive_link', './models/alexnet/new_6_epochs_1_fl-rounds/svhn/node_8.pth', quiet=True,fuzzy=True)\n",
        "# gdown.download('https://drive.google.com/file/d/1Q58XMB6n8k1Fijz1rcctzz_YTy8hvrPh/view?usp=drive_link', './models/alexnet/new_6_epochs_1_fl-rounds/svhn/node_9.pth', quiet=True,fuzzy=True)\n"
      ]
    },
    {
      "cell_type": "markdown",
      "metadata": {
        "id": "4lnJKoRD_avb"
      },
      "source": [
        "## Downloading 480 epochs 6 FL_round\n"
      ]
    },
    {
      "cell_type": "code",
      "execution_count": null,
      "metadata": {
        "id": "LcMpDxaUh9w8"
      },
      "outputs": [],
      "source": [
        "# gdown.download('https://drive.google.com/file/d/1FwYkt-RbRWsv3W4sbrmIIl0eDk4jieCu/view?usp=drive_link', './models/alexnet/480_epochs_8_fl-rounds/stl10/node_0.pth', quiet=True,fuzzy=True)\n",
        "# gdown.download('https://drive.google.com/file/d/1DU6F4EdbJrQB6l_Y7mOqlCK7G4QmTjVT/view?usp=drive_link', './models/alexnet/480_epochs_8_fl-rounds/stl10/node_1.pth', quiet=True,fuzzy=True)\n",
        "# gdown.download('https://drive.google.com/file/d/1N705njgTMi2JBdw2OxUX66H7CDfBEFWS/view?usp=drive_link', './models/alexnet/480_epochs_8_fl-rounds/stl10/node_2.pth', quiet=True,fuzzy=True)\n",
        "# gdown.download('https://drive.google.com/file/d/1dXslrCGKANfkjfPkrkFR5wlkFG4DRYWk/view?usp=drive_link', './models/alexnet/480_epochs_8_fl-rounds/stl10/node_3.pth', quiet=True,fuzzy=True)\n",
        "# gdown.download('https://drive.google.com/file/d/16ALKh4p_sav6Krng9pinYPDhaWW974N4/view?usp=drive_link', './models/alexnet/480_epochs_8_fl-rounds/stl10/node_4.pth', quiet=True,fuzzy=True)\n",
        "# gdown.download('https://drive.google.com/file/d/1hgs5e8rATTnxVfXqUWHr6H_LrKrgJ70B/view?usp=drive_link', './models/alexnet/480_epochs_8_fl-rounds/stl10/node_5.pth', quiet=True,fuzzy=True)\n",
        "# gdown.download('https://drive.google.com/file/d/1EArdck5iWL0PldbtW48VXQ8aUjL5AeJk/view?usp=drive_link', './models/alexnet/480_epochs_8_fl-rounds/stl10/node_6.pth', quiet=True,fuzzy=True)\n",
        "# gdown.download('https://drive.google.com/file/d/1uyv-n4qrCmqXxpPxs_Pb9YQB0sJ3hyNz/view?usp=drive_link', './models/alexnet/480_epochs_8_fl-rounds/stl10/node_7.pth', quiet=True,fuzzy=True)\n",
        "# gdown.download('https://drive.google.com/file/d/15nGge5zfjZWa3TigCvI2aacr9rE-XvII/view?usp=drive_link', './models/alexnet/480_epochs_8_fl-rounds/stl10/node_8.pth', quiet=True,fuzzy=True)\n",
        "# gdown.download('https://drive.google.com/file/d/1CeONwEJfz-hoPTs6t_9SPWFEmHDfGICl/view?usp=drive_link', './models/alexnet/480_epochs_8_fl-rounds/stl10/node_9.pth', quiet=True,fuzzy=True)"
      ]
    },
    {
      "cell_type": "markdown",
      "metadata": {
        "id": "gSwlbabUh9Q-"
      },
      "source": [
        "## Downloading 480 epochs 6 FL_round After aggregation\n"
      ]
    },
    {
      "cell_type": "code",
      "execution_count": null,
      "metadata": {
        "id": "0oBxWz5N_bjF"
      },
      "outputs": [],
      "source": [
        "# gdown.download('https://drive.google.com/file/d/1sz78CSsPe2Qg0fYbCEhGPwyNq4ftb1Ig/view?usp=drive_link', './models/alexnet/after_aggregation_480_epochs_8_fl-rounds/stl10/node_0.pth', quiet=True,fuzzy=True)\n",
        "# gdown.download('https://drive.google.com/file/d/1ctTu9SrnX4rNaTS7yTkwqVWYd1L1-V68/view?usp=drive_link', './models/alexnet/after_aggregation_480_epochs_8_fl-rounds/stl10/node_1.pth', quiet=True,fuzzy=True)\n",
        "# gdown.download('https://drive.google.com/file/d/17XrBq7pK1sOuM1yFKB_FNGWF9OdFkBqT/view?usp=drive_link', './models/alexnet/after_aggregation_480_epochs_8_fl-rounds/stl10/node_2.pth', quiet=True,fuzzy=True)\n",
        "# gdown.download('https://drive.google.com/file/d/1dUCimIynL-PcQxFa36VaB7qsEt_7ql3E/view?usp=drive_link', './models/alexnet/after_aggregation_480_epochs_8_fl-rounds/stl10/node_3.pth', quiet=True,fuzzy=True)\n",
        "# gdown.download('https://drive.google.com/file/d/1JdVvGdjJ6bEkEQ7MIVmPT72NFlVAUoRm/view?usp=drive_link', './models/alexnet/after_aggregation_480_epochs_8_fl-rounds/stl10/node_4.pth', quiet=True,fuzzy=True)\n",
        "# gdown.download('https://drive.google.com/file/d/1KO6Vu3pQmOcZnKOz457CJVQbryDO7WTx/view?usp=drive_link', './models/alexnet/after_aggregation_480_epochs_8_fl-rounds/stl10/node_5.pth', quiet=True,fuzzy=True)\n",
        "# gdown.download('https://drive.google.com/file/d/1kBss9ETU0IDRNLI1fzcxjuBmxJCZxldU/view?usp=drive_link', './models/alexnet/after_aggregation_480_epochs_8_fl-rounds/stl10/node_6.pth', quiet=True,fuzzy=True)\n",
        "# gdown.download('https://drive.google.com/file/d/1-OFFlAXAIb0joZg2slmFc0sje-lI2hrx/view?usp=drive_link', './models/alexnet/after_aggregation_480_epochs_8_fl-rounds/stl10/node_7.pth', quiet=True,fuzzy=True)\n",
        "# gdown.download('https://drive.google.com/file/d/1XKpNfQ4T4E0zVclozeyu9U4hwKW1LwNk/view?usp=drive_link', './models/alexnet/after_aggregation_480_epochs_8_fl-rounds/stl10/node_8.pth', quiet=True,fuzzy=True)\n",
        "# gdown.download('https://drive.google.com/file/d/1cXFW6j8qIyGs54CbnDNAvGNqrN09yKQo/view?usp=drive_link', './models/alexnet/after_aggregation_480_epochs_8_fl-rounds/stl10/node_9.pth', quiet=True,fuzzy=True)"
      ]
    },
    {
      "cell_type": "code",
      "execution_count": null,
      "metadata": {
        "id": "Hg9vtCQ1Hiz0"
      },
      "outputs": [],
      "source": []
    },
    {
      "cell_type": "markdown",
      "metadata": {
        "id": "aRkxao3oDQ64"
      },
      "source": [
        "## Cosine"
      ]
    },
    {
      "cell_type": "code",
      "execution_count": 15,
      "metadata": {
        "colab": {
          "base_uri": "https://localhost:8080/"
        },
        "id": "6RVAn01YcXwY",
        "outputId": "cce44f85-59eb-4571-cef8-8f82b9c4b6b7"
      },
      "outputs": [
        {
          "name": "stderr",
          "output_type": "stream",
          "text": [
            "/tmp/ipykernel_124531/3809231039.py:18: FutureWarning: You are using `torch.load` with `weights_only=False` (the current default value), which uses the default pickle module implicitly. It is possible to construct malicious pickle data which will execute arbitrary code during unpickling (See https://github.com/pytorch/pytorch/blob/main/SECURITY.md#untrusted-models for more details). In a future release, the default value for `weights_only` will be flipped to `True`. This limits the functions that could be executed during unpickling. Arbitrary objects will no longer be allowed to be loaded via this mode unless they are explicitly allowlisted by the user via `torch.serialization.add_safe_globals`. We recommend you start setting `weights_only=True` for any use case where you don't have full control of the loaded file. Please open an issue on GitHub for any issues related to this experimental feature.\n",
            "  model = torch.load(path, map_location=torch.device('cpu'))\n"
          ]
        },
        {
          "name": "stdout",
          "output_type": "stream",
          "text": [
            "Successfully loaded: ./models/alex-30/node_0.pth\n",
            "Successfully loaded: ./models/alex-30/node_1.pth\n",
            "Successfully loaded: ./models/alex-30/node_2.pth\n"
          ]
        }
      ],
      "source": [
        "N=10\n",
        "params=[]\n",
        "NUMBER_OF_EPOCHS = 480 # values are: 6, 12, 18, 24, 30, 36, 42, 48, 480\n",
        "DATASET = \"svhn\"  # values are: cifar10 or svhn\n",
        "\n",
        "sub_path = None\n",
        "pretrained = True\n",
        "new = True\n",
        "\n",
        "# if NUMBER_OF_EPOCHS == 6:\n",
        "#   if pretrained:\n",
        "#     sub_path = f\"new_6_epochs_1_fl-rounds/{DATASET}\"\n",
        "#   else:\n",
        "#     sub_path = f\"6_epochs_1_fl-rounds/{DATASET}\"\n",
        "# elif NUMBER_OF_EPOCHS == 12:\n",
        "#   if pretrained:\n",
        "#     sub_path = f\"12_epochs_2_pt_fl-rounds/{DATASET}\"\n",
        "#   else:\n",
        "#     sub_path = f\"12_epochs_2_fl-rounds/{DATASET}\"\n",
        "# elif NUMBER_OF_EPOCHS == 18:\n",
        "#   sub_path = f\"18_epochs_3_fl-rounds/{DATASET}\"\n",
        "# elif NUMBER_OF_EPOCHS == 24:\n",
        "#   sub_path = f\"24_epochs_4_fl-rounds/{DATASET}\"\n",
        "# elif NUMBER_OF_EPOCHS == 30:\n",
        "#   if new:\n",
        "#     sub_path = f\"new_30_epochs_5_fl-rounds/{DATASET}\"\n",
        "#   else:\n",
        "#     sub_path = f\"30_epochs_5_fl-rounds/{DATASET}\"\n",
        "# elif NUMBER_OF_EPOCHS == 36:\n",
        "#   sub_path = f\"36_epochs_6_fl-rounds/{DATASET}\"\n",
        "# elif NUMBER_OF_EPOCHS == 42:\n",
        "#   sub_path = f\"42_epochs_7_fl-rounds/{DATASET}\"\n",
        "# elif NUMBER_OF_EPOCHS == 48:\n",
        "#   if new:\n",
        "#     sub_path = f\"new_48_epochs_8_fl-rounds/{DATASET}\"\n",
        "#   else:\n",
        "#     sub_path = f\"48_epochs_8_fl-rounds/{DATASET}\"\n",
        "# elif NUMBER_OF_EPOCHS == 480:\n",
        "#   sub_path = f\"480_epochs_8_fl-rounds/stl10\"\n",
        "# else:\n",
        "#   print(\"values not supported\")\n",
        "\n",
        "# sub_path = \"after_aggregation_480_epochs_8_fl-rounds/stl10\"\n",
        "\n",
        "for i in range(3):\n",
        "    path = f\"./models/alex-30/node_{i}.pth\"\n",
        "    if not os.path.exists(path):\n",
        "        print(f\"File {path} does not exist. Skipping...\")\n",
        "        continue\n",
        "    try:\n",
        "        node = model_parameters_to_numpy(path)\n",
        "        param = np.concatenate([p.ravel() for p in node])\n",
        "        params.append(param)\n",
        "        print(f\"Successfully loaded: {path}\")\n",
        "    except Exception as e:\n",
        "        print(f\"Error loading {path}: {e}\")"
      ]
    },
    {
      "cell_type": "code",
      "execution_count": 20,
      "metadata": {},
      "outputs": [],
      "source": [
        "x = [\n",
        "[4948, 0,5293, 0, 0,0,0,0,0,0,],\n",
        "[0,3466, 0, 0, 0,0,0,0,0, 2330,],\n",
        "[0,3465,5292, 0, 0,0,0,0,0,0,],\n",
        "[0, 0, 0,4249,3729,0,0,0,0,0,],\n",
        "[0,3465, 0, 0,3729,0,0,0,0,0,],\n",
        "[0, 0, 0, 0, 0, 6882,0, 1865,0,0,],\n",
        "[0, 0, 0, 0, 0,0, 2864, 1865,0,0,],\n",
        "[0, 0, 0, 0, 0,0, 2863, 1865,0,0,],\n",
        "[0, 0, 0,4248, 0,0,0,0, 5045,0,],\n",
        "[0,3465, 0, 0, 0,0,0,0,0, 2329,],]"
      ]
    },
    {
      "cell_type": "code",
      "execution_count": 16,
      "metadata": {
        "colab": {
          "base_uri": "https://localhost:8080/",
          "height": 146
        },
        "id": "30_BdzGTfM4h",
        "outputId": "9145ca91-a550-4681-9348-168cef16ce01"
      },
      "outputs": [
        {
          "data": {
            "text/plain": [
              "(array([ 0.00579114,  0.00879585,  0.0016489 , ..., -0.0073623 ,\n",
              "        -0.00880101, -0.00668311], dtype=float32),\n",
              " array([ 0.00593197,  0.00881935,  0.00101769, ..., -0.00430206,\n",
              "        -0.00672888, -0.00352799], dtype=float32),\n",
              " array([ 0.00573266,  0.00860115,  0.00092842, ..., -0.00673541,\n",
              "        -0.00833055, -0.00609909], dtype=float32))"
            ]
          },
          "execution_count": 16,
          "metadata": {},
          "output_type": "execute_result"
        }
      ],
      "source": [
        "params[0], params[1], params[2]"
      ]
    },
    {
      "cell_type": "code",
      "execution_count": null,
      "metadata": {
        "id": "Fxe_HfwIsiQs"
      },
      "outputs": [],
      "source": [
        "N = len(params)\n",
        "print(\"Number of parameters (N):\", N)\n",
        "Cosine_similarity = np.zeros((N, N))\n",
        "for i in range(N):\n",
        "    for j in range(i + 1, N):\n",
        "        Cosine_similarity[i][j] = cosine_similarity(params[i], params[j])"
      ]
    },
    {
      "cell_type": "code",
      "execution_count": null,
      "metadata": {
        "id": "VSw4T-Falaq1"
      },
      "outputs": [],
      "source": [
        "Cosine_distance = 1 - Cosine_similarity\n",
        "ap = AffinityPropagation(affinity='precomputed', random_state=0).fit(Cosine_distance)\n",
        "cosine_labels = ap.labels_\n",
        "\n",
        "clusters = group_clients_by_cluster(cosine_labels)\n",
        "\n",
        "print(\"Clients clustering based on their dataset:\", clusters)\n",
        "print(\"Cluster labels for each parameter:\", cosine_labels)"
      ]
    },
    {
      "cell_type": "markdown",
      "metadata": {
        "id": "yT0nhsVmVM9q"
      },
      "source": [
        "**Coordinate-Based**"
      ]
    },
    {
      "cell_type": "code",
      "execution_count": null,
      "metadata": {
        "id": "K-vACQUtVBgg"
      },
      "outputs": [],
      "source": [
        "coordinates=[]\n",
        "for i in range(N):\n",
        "  tops=top_to_one_other_zero(params[i], P)\n",
        "  coordinates.append(tops)\n",
        "ID_similarity=np.zeros((N,N))\n",
        "for i in range(N):\n",
        "  for j in range(i+1,N):\n",
        "    ID_similarity[i][j]=cosine_similarity(coordinates[i],coordinates[j])\n",
        "\n",
        "ID_distance = -ID_similarity\n",
        "ap = AffinityPropagation(affinity=\"precomputed\", random_state=0).fit(ID_distance)\n",
        "ID_labels = ap.labels_\n",
        "ID_similarity_show = np.round(ID_similarity, 2)\n"
      ]
    },
    {
      "cell_type": "code",
      "execution_count": null,
      "metadata": {
        "id": "Se8kQnINYQeo"
      },
      "outputs": [],
      "source": [
        "Cosine_similarity_show=np.round(Cosine_similarity, 2)\n",
        "print(cosine_labels)\n",
        "Cosine_similarity"
      ]
    },
    {
      "cell_type": "code",
      "execution_count": null,
      "metadata": {
        "id": "854OX-qVYTzu"
      },
      "outputs": [],
      "source": [
        "print(ID_labels)\n",
        "ID_similarity"
      ]
    },
    {
      "cell_type": "code",
      "execution_count": null,
      "metadata": {
        "id": "JB7qTGHbaqAA"
      },
      "outputs": [],
      "source": [
        "matrix1=Cosine_similarity.flatten()\n",
        "matrix2=ID_similarity.flatten()\n",
        "from scipy.stats import pearsonr, spearmanr\n",
        "\n",
        "corr_pearson, _ = pearsonr(matrix1, matrix2)\n",
        "corr_spearman, _ = spearmanr(matrix1, matrix2)\n",
        "mae = np.mean(np.abs(matrix1 - matrix2))\n",
        "diff=matrix1- matrix2\n",
        "min_,max_,avg_=np.min(diff),np.max(diff),np.average(diff)\n",
        "corr_pearson, corr_spearman, mae, min_,max_,avg_"
      ]
    },
    {
      "cell_type": "code",
      "execution_count": null,
      "metadata": {
        "id": "z0L9mGTkedtt"
      },
      "outputs": [],
      "source": [
        "matrix2"
      ]
    },
    {
      "cell_type": "code",
      "execution_count": null,
      "metadata": {
        "id": "GYVVdJtNh84X"
      },
      "outputs": [],
      "source": [
        "import numpy as np\n",
        "from sklearn.linear_model import LinearRegression\n",
        "\n",
        "def find_regression_coefficients(x, y):\n",
        "    x = np.array(x).reshape(-1, 1)\n",
        "    y = np.array(y)\n",
        "\n",
        "    # Create and fit the regression model\n",
        "    model = LinearRegression()\n",
        "    model.fit(x, y)\n",
        "\n",
        "    return model.coef_[0], model.intercept_\n",
        "slope, intercept = find_regression_coefficients(matrix1, matrix2)\n",
        "cofficient=f\"cosine(x,y)={round(slope,3)} ID_sim(x,y) {round(intercept,3)}\"\n",
        "cofficient"
      ]
    },
    {
      "cell_type": "code",
      "execution_count": null,
      "metadata": {
        "id": "ZCnubZLxZ1as"
      },
      "outputs": [],
      "source": [
        "# Filter non-zero values for both matrices\n",
        "non_zero_indices_x = np.nonzero(matrix1)\n",
        "non_zero_indices_y = np.nonzero(matrix2)\n",
        "\n",
        "# Get non-zero values\n",
        "x_non_zero = matrix1[non_zero_indices_x]\n",
        "y_non_zero = matrix2[non_zero_indices_y]\n",
        "\n",
        "# Create scatter plot for non-zero values\n",
        "plt.figure(figsize=(8, 6))\n",
        "\n",
        "# Plot X values (Cosine Similarity) in blue\n",
        "plt.scatter(range(len(x_non_zero)), x_non_zero, color='blue', alpha=0.7, label='Cosine Similarity (X)')\n",
        "\n",
        "# Plot Y values (Approximation Similarity) in red\n",
        "plt.scatter(range(len(y_non_zero)), y_non_zero, color='red', alpha=0.7, label='Approximation Similarity (Y)')\n",
        "\n",
        "# Add labels and title\n",
        "plt.xlabel('Data Index', fontsize=12)\n",
        "plt.ylabel('Similarity Values', fontsize=12)\n",
        "plt.title(f\"Pearson Correlation: {round(corr_pearson,3)} Spearman Correlation: {round(corr_spearman,3)} \"+cofficient, fontsize=14)\n",
        "plt.legend()\n",
        "plt.grid(alpha=0.4)\n",
        "\n",
        "plt.show()\n",
        "\n",
        "\n",
        "\n"
      ]
    },
    {
      "cell_type": "markdown",
      "metadata": {
        "id": "A__UOfDccF4y"
      },
      "source": [
        "## **Clustering and Silouhette**"
      ]
    },
    {
      "cell_type": "code",
      "execution_count": null,
      "metadata": {
        "id": "WB7lxnU5cEvk"
      },
      "outputs": [],
      "source": [
        "import numpy as np\n",
        "from sklearn.metrics import silhouette_score\n",
        "from sklearn.cluster import AffinityPropagation\n",
        "from sklearn.metrics import pairwise_distances\n",
        "data = np.array([\n",
        "    [6000, 0, 3000, 0, 0, 0, 0, 0, 0, 0],\n",
        "    [0, 1500, 0, 0, 0, 0, 0, 0, 0, 3000],\n",
        "    [0, 1500, 3000, 0, 0, 0, 0, 0, 0, 0],\n",
        "    [0, 0, 0, 3000, 3000, 0, 0, 0, 0, 0],\n",
        "    [0, 1500, 0, 0, 3000, 0, 0, 0, 0, 0],\n",
        "    [0, 0, 0, 0, 0, 6000, 0, 2000, 0, 0],\n",
        "    [0, 0, 0, 0, 0, 0, 3000, 2000, 0, 0],\n",
        "    [0, 0, 0, 0, 0, 0, 3000, 2000, 0, 0],     # Added rows assuming the pattern.\n",
        "    [0, 0, 0, 3000, 0, 0, 0, 0, 6000, 0],\n",
        "    [0, 1500, 0, 0, 0, 0, 0, 0, 0, 3000]\n",
        "])\n",
        "\n",
        "# Calculate cosine similarity\n",
        "cosine_dist_opt = pairwise_distances(data, metric='cosine')\n",
        "cosine_similarities_opt = -cosine_dist_opt  # Convert distances to negative similarities for AP\n",
        "\n",
        "# Determine the preference based on the cosine similarity matrix\n",
        "preference = np.median(cosine_similarities_opt)\n",
        "\n",
        "# Affinity Propagation with cosine similarity\n",
        "clustering = AffinityPropagation(affinity='precomputed', preference=preference, random_state=42).fit(cosine_similarities_opt)\n",
        "\n",
        "cluster_labels = clustering.labels_\n",
        "# Calculate the silhouette score\n",
        "\n",
        "\n",
        "silhouette_avg_opt = silhouette_score(data[:9], cluster_labels, metric='cosine')\n",
        "silhouette_avg_cosine = silhouette_score(data, cosine_labels, metric='cosine')\n",
        "silhouette_avg_method = silhouette_score(data, ID_labels, metric='cosine')\n",
        "\n",
        "\n",
        "# Organizing the final clusters as [[], [], ...]\n",
        "num_clusters = len(np.unique(cluster_labels))\n",
        "clusters = [[] for _ in range(num_clusters)]\n",
        "for index, label in enumerate(cluster_labels):\n",
        "    clusters[label].append(index)\n",
        "\n",
        "# Output the clusters and silhouette score\n",
        "print(f\"Silhouette Score with[{clusters}]: {silhouette_avg_opt}\")\n",
        "print(f\"Silhouette Score_cosine with [{cluster_to_list(cosine_labels)}]: {silhouette_avg_cosine}\")\n",
        "print(f\"Silhouette Score_ID method with [{cluster_to_list(ID_labels)}]: {silhouette_avg_method}\")\n"
      ]
    },
    {
      "cell_type": "code",
      "execution_count": null,
      "metadata": {
        "id": "39XCdb7mKcIH"
      },
      "outputs": [],
      "source": []
    },
    {
      "cell_type": "markdown",
      "metadata": {
        "id": "QR-54vdiHiRY"
      },
      "source": [
        "## Others"
      ]
    },
    {
      "cell_type": "code",
      "execution_count": null,
      "metadata": {
        "id": "DzmvazTDb6rj"
      },
      "outputs": [],
      "source": [
        "similarity_vector=[]\n",
        "for p in range (0,100):\n",
        "    similarity_vector.append(cosine_similarity(params[1], array_prune(params[1], p/100)))"
      ]
    },
    {
      "cell_type": "code",
      "execution_count": null,
      "metadata": {
        "id": "I9Zd8r-ls87z"
      },
      "outputs": [],
      "source": [
        "similarity_vector_ID=[]\n",
        "for p in range (1,100):\n",
        "    similarity_vector_ID.append(cosine_similarity(params[1], top_to_one_other_zero(params[1], p/100)))"
      ]
    },
    {
      "cell_type": "code",
      "execution_count": null,
      "metadata": {
        "id": "jsaAc_1Cb7Vz"
      },
      "outputs": [],
      "source": [
        "import numpy as np\n",
        "import matplotlib.pyplot as plt\n",
        "values = np.random.rand(100)\n",
        "plt.figure(figsize=(10, 5))  # Optional: Adjust the figure size\n",
        "plt.plot(similarity_vector, marker='o', linestyle='-', label='similarity of prun')\n",
        "plt.plot(similarity_vector_ID, marker='o', linestyle='-', label='similarity of ID')\n",
        "plt.title('Plot of 100 Values')\n",
        "plt.xlabel('Index')\n",
        "plt.ylabel('Value')\n",
        "plt.legend()\n",
        "plt.grid(True)\n",
        "plt.show()"
      ]
    },
    {
      "cell_type": "markdown",
      "metadata": {
        "id": "dmwoKOQ6DV3s"
      },
      "source": [
        "## Euclidean"
      ]
    },
    {
      "cell_type": "code",
      "execution_count": null,
      "metadata": {
        "id": "UwxGjpLlDWJP"
      },
      "outputs": [],
      "source": [
        "Eu_similarity=np.zeros((N,N))\n",
        "for i in range(N):\n",
        "    for j in range(i + 1, N):\n",
        "        # Calculate Euclidean distance\n",
        "        Eu_similarity[i][j] =Eu_similarity[j][i] = np.linalg.norm(params[i] - params[j])\n",
        "\n",
        "Eu_distance = -Eu_similarity\n",
        "ap = AffinityPropagation(affinity=\"precomputed\").fit(Eu_distance)\n",
        "labels = ap.labels_\n",
        "\n",
        "print(\"Cluster labels for each prune:\", labels)"
      ]
    },
    {
      "cell_type": "markdown",
      "metadata": {
        "id": "f59STLC8EFMA"
      },
      "source": [
        "## Wasserstein (!!!Takes too long!!!!)"
      ]
    },
    {
      "cell_type": "code",
      "execution_count": null,
      "metadata": {
        "id": "A8J4nPySEFYv"
      },
      "outputs": [],
      "source": [
        "W_similarity=np.zeros((N,N))\n",
        "for i in range(N):\n",
        "  for j in range(i + 1, N):\n",
        "    W_similarity[i][j] =W_similarity[j][i] = wasserstein_distance(params[i], params[j])\n",
        "\n",
        "W_distance=W_similarity\n",
        "ap = AffinityPropagation(affinity=\"precomputed\").fit(W_distance)\n",
        "labels = ap.labels_\n",
        "\n",
        "print(\"Cluster labels for each prune:\", labels)"
      ]
    },
    {
      "cell_type": "code",
      "execution_count": null,
      "metadata": {
        "id": "nEmE0O-rJrCr"
      },
      "outputs": [],
      "source": [
        "a=params[0]\n",
        "b=params[1]\n",
        "c=params[2]\n",
        "\n",
        "x=np.linalg.norm(b)\n",
        "x"
      ]
    },
    {
      "cell_type": "code",
      "execution_count": null,
      "metadata": {
        "id": "ip954WqvJ1px"
      },
      "outputs": [],
      "source": [
        "y=np.linalg.norm(c)\n",
        "y"
      ]
    },
    {
      "cell_type": "code",
      "execution_count": null,
      "metadata": {
        "id": "X6KqLENsJ_5T"
      },
      "outputs": [],
      "source": [
        "z=np.dot(b,c)\n",
        "z"
      ]
    },
    {
      "cell_type": "code",
      "execution_count": null,
      "metadata": {
        "id": "77TuKXU3KW6T"
      },
      "outputs": [],
      "source": [
        "print(z,x,y,x*y,z/(x*y))"
      ]
    },
    {
      "cell_type": "code",
      "execution_count": null,
      "metadata": {
        "id": "D1-H_pIgKm65"
      },
      "outputs": [],
      "source": [
        "z/x*y"
      ]
    },
    {
      "cell_type": "code",
      "execution_count": null,
      "metadata": {
        "id": "e7ZI0SWhmD7r"
      },
      "outputs": [],
      "source": [
        "# b=params[0]\n",
        "# #a_=prun_0\n",
        "# #b_=prun_1\n",
        "# eps_a=np.linalg.norm(a)-np.linalg.norm(a_)\n",
        "# eps_b=np.linalg.norm(b)-np.linalg.norm(b_)\n",
        "# print(\"epsilons:\", eps_a, eps_b)\n",
        "# if eps_a<=np.linalg.norm(a-a_):\n",
        "#   print(\"satisfy\")\n",
        "\n",
        "# if eps_b<=np.linalg.norm(b - b_):\n",
        "#   print(\"satisfy\")\n",
        "# delta=cosine_similarity(a,b)-cosine_similarity(a_,b_)\n",
        "# print(delta)\n",
        "\n",
        "# check_delta=eps_a/np.linalg.norm(a)+eps_b/np.linalg.norm(b)+(eps_a*eps_b)/np.linalg.norm(a)*np.linalg.norm(b)\n",
        "# print(check_delta)\n",
        "\n"
      ]
    }
  ],
  "metadata": {
    "colab": {
      "provenance": []
    },
    "kernelspec": {
      "display_name": "Python 3",
      "name": "python3"
    },
    "language_info": {
      "codemirror_mode": {
        "name": "ipython",
        "version": 3
      },
      "file_extension": ".py",
      "mimetype": "text/x-python",
      "name": "python",
      "nbconvert_exporter": "python",
      "pygments_lexer": "ipython3",
      "version": "3.12.7"
    }
  },
  "nbformat": 4,
  "nbformat_minor": 0
}
